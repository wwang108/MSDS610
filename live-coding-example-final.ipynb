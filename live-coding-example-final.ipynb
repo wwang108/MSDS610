{
 "cells": [
  {
   "cell_type": "code",
   "execution_count": 1,
   "source": [
    "import pandas as pd\n",
    "import numpy as np\n",
    "import matplotlib.pyplot as plt\n",
    "import plotly.express as px\n",
    "import plotly.graph_objects as go\n",
    "from sklearn import linear_model"
   ],
   "outputs": [],
   "metadata": {
    "pycharm": {
     "is_executing": true
    }
   }
  },
  {
   "cell_type": "markdown",
   "source": [
    "### What is linear regression?\n",
    "\n",
    "Linear Regression attempts to model the relationship between variables by fitting a linear equation, or more intuitively, a line/plane among observed data."
   ],
   "metadata": {}
  },
  {
   "cell_type": "code",
   "execution_count": 61,
   "source": [
    "x = [10 * np.random.rand() for i in range(40)]\n",
    "y = [2 * x[i] + 3 + 5 * np.random.rand() for i in range(40)]\n",
    "plt.scatter(x, y)\n",
    "plt.xlabel('x', size=12)\n",
    "plt.ylabel('y', size=12)\n",
    "plt.show()"
   ],
   "outputs": [
    {
     "output_type": "display_data",
     "data": {
      "image/png": "[encoded data removed]",
      "text/plain": [
       "<Figure size 432x288 with 1 Axes>"
      ]
     },
     "metadata": {
      "needs_background": "light"
     }
    }
   ],
   "metadata": {}
  },
  {
   "cell_type": "code",
   "execution_count": 62,
   "source": [
    "x = [10 * np.random.rand() for i in range(40)]\n",
    "y = [np.cos(x[i]) + 3 + np.random.rand() for i in range(40)]\n",
    "plt.scatter(x, y)\n",
    "plt.xlabel('x', size=12)\n",
    "plt.ylabel('y', size=12)\n",
    "plt.show()"
   ],
   "outputs": [
    {
     "output_type": "display_data",
     "data": {
      "image/png": "[encoded data removed]",
      "text/plain": [
       "<Figure size 432x288 with 1 Axes>"
      ]
     },
     "metadata": {
      "needs_background": "light"
     }
    }
   ],
   "metadata": {}
  },
  {
   "cell_type": "markdown",
   "source": [
    "## Outline\n",
    "*We use a simple and clean dataset to expain the basic process of MLR*\n",
    "- Determine whether there exists linear relationship\n",
    "- Fit the model (OLSE)\n",
    "- Evaluate the model ($R^2$ and $adj-R^2$; t-test and F-test)"
   ],
   "metadata": {}
  },
  {
   "cell_type": "markdown",
   "source": [
    "## Load Data"
   ],
   "metadata": {}
  },
  {
   "cell_type": "code",
   "execution_count": 63,
   "source": [
    "# Load 'hospital_infection.csv' dataset\n",
    "df = pd.read_csv('hospital_infection.csv')\n",
    "df.head()"
   ],
   "outputs": [
    {
     "output_type": "execute_result",
     "data": {
      "text/html": [
       "<div>\n",
       "<style scoped>\n",
       "    .dataframe tbody tr th:only-of-type {\n",
       "        vertical-align: middle;\n",
       "    }\n",
       "\n",
       "    .dataframe tbody tr th {\n",
       "        vertical-align: top;\n",
       "    }\n",
       "\n",
       "    .dataframe thead th {\n",
       "        text-align: right;\n",
       "    }\n",
       "</style>\n",
       "<table border=\"1\" class=\"dataframe\">\n",
       "  <thead>\n",
       "    <tr style=\"text-align: right;\">\n",
       "      <th></th>\n",
       "      <th>ID</th>\n",
       "      <th>Stay</th>\n",
       "      <th>Age</th>\n",
       "      <th>InfectionRate</th>\n",
       "      <th>Culture</th>\n",
       "      <th>Xray</th>\n",
       "      <th>Beds</th>\n",
       "      <th>MedSchool</th>\n",
       "      <th>Region</th>\n",
       "      <th>Census</th>\n",
       "      <th>Nurses</th>\n",
       "      <th>Facilities</th>\n",
       "    </tr>\n",
       "  </thead>\n",
       "  <tbody>\n",
       "    <tr>\n",
       "      <th>0</th>\n",
       "      <td>5</td>\n",
       "      <td>11.20</td>\n",
       "      <td>56.5</td>\n",
       "      <td>5.7</td>\n",
       "      <td>34.5</td>\n",
       "      <td>88.9</td>\n",
       "      <td>180</td>\n",
       "      <td>2</td>\n",
       "      <td>1</td>\n",
       "      <td>134</td>\n",
       "      <td>151</td>\n",
       "      <td>40.0</td>\n",
       "    </tr>\n",
       "    <tr>\n",
       "      <th>1</th>\n",
       "      <td>10</td>\n",
       "      <td>8.84</td>\n",
       "      <td>56.3</td>\n",
       "      <td>6.3</td>\n",
       "      <td>29.6</td>\n",
       "      <td>82.6</td>\n",
       "      <td>85</td>\n",
       "      <td>2</td>\n",
       "      <td>1</td>\n",
       "      <td>59</td>\n",
       "      <td>66</td>\n",
       "      <td>40.0</td>\n",
       "    </tr>\n",
       "    <tr>\n",
       "      <th>2</th>\n",
       "      <td>11</td>\n",
       "      <td>11.07</td>\n",
       "      <td>53.2</td>\n",
       "      <td>4.9</td>\n",
       "      <td>28.5</td>\n",
       "      <td>122.0</td>\n",
       "      <td>768</td>\n",
       "      <td>1</td>\n",
       "      <td>1</td>\n",
       "      <td>591</td>\n",
       "      <td>656</td>\n",
       "      <td>80.0</td>\n",
       "    </tr>\n",
       "    <tr>\n",
       "      <th>3</th>\n",
       "      <td>13</td>\n",
       "      <td>12.78</td>\n",
       "      <td>56.8</td>\n",
       "      <td>7.7</td>\n",
       "      <td>46.0</td>\n",
       "      <td>116.9</td>\n",
       "      <td>322</td>\n",
       "      <td>1</td>\n",
       "      <td>1</td>\n",
       "      <td>252</td>\n",
       "      <td>349</td>\n",
       "      <td>57.1</td>\n",
       "    </tr>\n",
       "    <tr>\n",
       "      <th>4</th>\n",
       "      <td>18</td>\n",
       "      <td>11.62</td>\n",
       "      <td>53.9</td>\n",
       "      <td>6.4</td>\n",
       "      <td>25.5</td>\n",
       "      <td>99.2</td>\n",
       "      <td>133</td>\n",
       "      <td>2</td>\n",
       "      <td>1</td>\n",
       "      <td>113</td>\n",
       "      <td>101</td>\n",
       "      <td>37.1</td>\n",
       "    </tr>\n",
       "  </tbody>\n",
       "</table>\n",
       "</div>"
      ],
      "text/plain": [
       "   ID   Stay   Age  InfectionRate  Culture   Xray  Beds  MedSchool  Region  \\\n",
       "0   5  11.20  56.5            5.7     34.5   88.9   180          2       1   \n",
       "1  10   8.84  56.3            6.3     29.6   82.6    85          2       1   \n",
       "2  11  11.07  53.2            4.9     28.5  122.0   768          1       1   \n",
       "3  13  12.78  56.8            7.7     46.0  116.9   322          1       1   \n",
       "4  18  11.62  53.9            6.4     25.5   99.2   133          2       1   \n",
       "\n",
       "   Census  Nurses  Facilities  \n",
       "0     134     151        40.0  \n",
       "1      59      66        40.0  \n",
       "2     591     656        80.0  \n",
       "3     252     349        57.1  \n",
       "4     113     101        37.1  "
      ]
     },
     "metadata": {},
     "execution_count": 63
    }
   ],
   "metadata": {}
  },
  {
   "cell_type": "markdown",
   "source": [
    "## Define the questions we want to answer with linear regression\n",
    "\n",
    "- ##### Can we predict the persons infection rate based on other patient statistics?\n",
    "\n",
    "- ##### What statistics are the most significant predictors of infection rate?\n",
    "\n",
    "## Visualising the Data"
   ],
   "metadata": {}
  },
  {
   "cell_type": "code",
   "execution_count": 64,
   "source": [
    "predictors = ['Stay', 'Culture', 'Xray', 'Nurses', 'Age', 'Facilities']\n",
    "fig, axes = plt.subplots(nrows=3, ncols=2, figsize=(12, 17))\n",
    "axes = axes.flatten()\n",
    "for i, predictor in enumerate(predictors):\n",
    "    axes[i].scatter(df[predictor], df['InfectionRate'])\n",
    "    axes[i].set_title(f'Predictor: {predictor}', fontsize=18)\n",
    "plt.show()"
   ],
   "outputs": [
    {
     "output_type": "display_data",
     "data": {
      "image/png": "[encoded data removed]",
      "text/plain": [
       "<Figure size 864x1224 with 6 Axes>"
      ]
     },
     "metadata": {
      "needs_background": "light"
     }
    }
   ],
   "metadata": {}
  },
  {
   "cell_type": "markdown",
   "source": [
    "## Extract data into useable format"
   ],
   "metadata": {}
  },
  {
   "cell_type": "code",
   "execution_count": 65,
   "source": [
    "target = ['InfectionRate']\n",
    "predictors = ['Stay', 'Culture', 'Xray', 'Census', 'Age', 'Facilities']"
   ],
   "outputs": [],
   "metadata": {}
  },
  {
   "cell_type": "code",
   "execution_count": 78,
   "source": [
    "# The Target Variable Vector\n",
    "y = df[target].values\n",
    "print(y[:10])"
   ],
   "outputs": [
    {
     "output_type": "stream",
     "name": "stdout",
     "text": [
      "[[5.7]\n",
      " [6.3]\n",
      " [4.9]\n",
      " [7.7]\n",
      " [6.4]\n",
      " [5. ]\n",
      " [4.5]\n",
      " [3.2]\n",
      " [4.4]\n",
      " [5. ]]\n"
     ]
    }
   ],
   "metadata": {}
  },
  {
   "cell_type": "code",
   "execution_count": 67,
   "source": [
    "# The Predictor Variable Matrix\n",
    "df[predictors].head(5)"
   ],
   "outputs": [
    {
     "output_type": "execute_result",
     "data": {
      "text/html": [
       "<div>\n",
       "<style scoped>\n",
       "    .dataframe tbody tr th:only-of-type {\n",
       "        vertical-align: middle;\n",
       "    }\n",
       "\n",
       "    .dataframe tbody tr th {\n",
       "        vertical-align: top;\n",
       "    }\n",
       "\n",
       "    .dataframe thead th {\n",
       "        text-align: right;\n",
       "    }\n",
       "</style>\n",
       "<table border=\"1\" class=\"dataframe\">\n",
       "  <thead>\n",
       "    <tr style=\"text-align: right;\">\n",
       "      <th></th>\n",
       "      <th>Stay</th>\n",
       "      <th>Culture</th>\n",
       "      <th>Xray</th>\n",
       "      <th>Census</th>\n",
       "      <th>Age</th>\n",
       "      <th>Facilities</th>\n",
       "    </tr>\n",
       "  </thead>\n",
       "  <tbody>\n",
       "    <tr>\n",
       "      <th>0</th>\n",
       "      <td>11.20</td>\n",
       "      <td>34.5</td>\n",
       "      <td>88.9</td>\n",
       "      <td>134</td>\n",
       "      <td>56.5</td>\n",
       "      <td>40.0</td>\n",
       "    </tr>\n",
       "    <tr>\n",
       "      <th>1</th>\n",
       "      <td>8.84</td>\n",
       "      <td>29.6</td>\n",
       "      <td>82.6</td>\n",
       "      <td>59</td>\n",
       "      <td>56.3</td>\n",
       "      <td>40.0</td>\n",
       "    </tr>\n",
       "    <tr>\n",
       "      <th>2</th>\n",
       "      <td>11.07</td>\n",
       "      <td>28.5</td>\n",
       "      <td>122.0</td>\n",
       "      <td>591</td>\n",
       "      <td>53.2</td>\n",
       "      <td>80.0</td>\n",
       "    </tr>\n",
       "    <tr>\n",
       "      <th>3</th>\n",
       "      <td>12.78</td>\n",
       "      <td>46.0</td>\n",
       "      <td>116.9</td>\n",
       "      <td>252</td>\n",
       "      <td>56.8</td>\n",
       "      <td>57.1</td>\n",
       "    </tr>\n",
       "    <tr>\n",
       "      <th>4</th>\n",
       "      <td>11.62</td>\n",
       "      <td>25.5</td>\n",
       "      <td>99.2</td>\n",
       "      <td>113</td>\n",
       "      <td>53.9</td>\n",
       "      <td>37.1</td>\n",
       "    </tr>\n",
       "  </tbody>\n",
       "</table>\n",
       "</div>"
      ],
      "text/plain": [
       "    Stay  Culture   Xray  Census   Age  Facilities\n",
       "0  11.20     34.5   88.9     134  56.5        40.0\n",
       "1   8.84     29.6   82.6      59  56.3        40.0\n",
       "2  11.07     28.5  122.0     591  53.2        80.0\n",
       "3  12.78     46.0  116.9     252  56.8        57.1\n",
       "4  11.62     25.5   99.2     113  53.9        37.1"
      ]
     },
     "metadata": {},
     "execution_count": 67
    }
   ],
   "metadata": {}
  },
  {
   "cell_type": "code",
   "execution_count": 79,
   "source": [
    "# Add intercept column and extract values\n",
    "data = df[predictors].copy()\n",
    "data['Intercept'] = 1\n",
    "\n",
    "X = np.roll(data.values, 1, axis=1)\n",
    "print(X[:10])"
   ],
   "outputs": [
    {
     "output_type": "stream",
     "name": "stdout",
     "text": [
      "[[  1.    11.2   34.5   88.9  134.    56.5   40.  ]\n",
      " [  1.     8.84  29.6   82.6   59.    56.3   40.  ]\n",
      " [  1.    11.07  28.5  122.   591.    53.2   80.  ]\n",
      " [  1.    12.78  46.   116.9  252.    56.8   57.1 ]\n",
      " [  1.    11.62  25.5   99.2  113.    53.9   37.1 ]\n",
      " [  1.     9.78  17.6   95.9  240.    52.3   57.1 ]\n",
      " [  1.     9.31  30.2  101.3  124.    47.2   37.1 ]\n",
      " [  1.     8.19  10.8   59.2  156.    52.1   37.1 ]\n",
      " [  1.    11.65  18.6   96.1  217.    54.5   37.1 ]\n",
      " [  1.    11.03  19.7  102.1  270.    49.9   57.1 ]]\n"
     ]
    }
   ],
   "metadata": {}
  },
  {
   "cell_type": "markdown",
   "source": [
    "## Fit the regression model"
   ],
   "metadata": {}
  },
  {
   "cell_type": "code",
   "execution_count": 69,
   "source": [
    "def get_predictor(coeff, intcpt):\n",
    "    ''' Function to produce linear regression \n",
    "        inference function based on input \n",
    "        parameter values.'''\n",
    "    def predictor(val):\n",
    "        return val * coeff + intcpt\n",
    "    return predictor"
   ],
   "outputs": [],
   "metadata": {}
  },
  {
   "cell_type": "code",
   "execution_count": 105,
   "source": [
    "x_example = [10 * np.random.rand() for i in range(40)]\n",
    "y_example = [2 * x_example[i] + 3 + 5 * np.random.rand() for i in range(40)]"
   ],
   "outputs": [],
   "metadata": {}
  },
  {
   "cell_type": "code",
   "execution_count": 109,
   "source": [
    "fig, axes = plt.subplots(ncols=2, figsize=(18, 8))\n",
    "axes = axes.flatten()\n",
    "\n",
    "for i, (coeff, intcpt) in enumerate([[0.5, 12.6], [2, 5.11]]):\n",
    "    predictor = get_predictor(coeff, intcpt)\n",
    "    axes[i].scatter(x_example, y_example)\n",
    "    axes[i].plot([min(x_example), max(x_example)],\n",
    "                 [predictor(min(x_example)), predictor(max(x_example))],\n",
    "                 'r', linewidth=3)\n",
    "    axes[i].set_title(\n",
    "        f\"Gradient = {coeff} | Intercept = {intcpt}\", fontsize=16)\n",
    "plt.show()"
   ],
   "outputs": [
    {
     "output_type": "display_data",
     "data": {
      "image/png": "[encoded data removed]",
      "text/plain": [
       "<Figure size 1296x576 with 2 Axes>"
      ]
     },
     "metadata": {
      "needs_background": "light"
     }
    }
   ],
   "metadata": {}
  },
  {
   "cell_type": "code",
   "execution_count": 108,
   "source": [
    "fig, axes = plt.subplots(ncols=2, figsize=(18, 8))\n",
    "axes = axes.flatten()\n",
    "\n",
    "for i, (coeff, intcpt) in enumerate([[0.5, 12.6], [2, 5.11]]):\n",
    "    predictor = get_predictor(coeff, intcpt)\n",
    "    axes[i].scatter(x_example, y_example)\n",
    "    axes[i].plot([min(x_example), max(x_example)],\n",
    "                 [predictor(min(x_example)), predictor(max(x_example))],\n",
    "                 'r', linewidth=3)\n",
    "    axes[i].set_title(\n",
    "        f\"Gradient = {coeff} | Intercept = {intcpt}\", fontsize=16)\n",
    "    for x_val, y_val in zip(x_example, y_example):\n",
    "        y_hat = predictor(x_val)\n",
    "        y_min, y_max = min(y_val, y_hat), max(y_val, y_hat)\n",
    "        axes[i].vlines(x_val, y_min, y_max, 'g', linewidth=0.9)\n",
    "plt.show()"
   ],
   "outputs": [
    {
     "output_type": "display_data",
     "data": {
      "image/png": "[encoded data removed]",
      "text/plain": [
       "<Figure size 1296x576 with 2 Axes>"
      ]
     },
     "metadata": {
      "needs_background": "light"
     }
    }
   ],
   "metadata": {}
  },
  {
   "cell_type": "markdown",
   "source": [
    "### Option 1: Compute optimum coefficients manually\n",
    "\n",
    "Multiple Linear regression (MLR) is special in that we can compute the optimum coefficinet values directly from the data using the equation below\n",
    "\n",
    "#### $\\underline{\\beta} = (\\underline{\\underline{X}}^T \\cdot \\underline{\\underline{X}})^{-1} \\cdot \\underline{\\underline{X}}^T \\cdot \\underline{y}$"
   ],
   "metadata": {}
  },
  {
   "cell_type": "code",
   "execution_count": 80,
   "source": [
    "# Compute the coefficient values\n",
    "beta = np.linalg.inv(X.T @ X) @ X.T @ y\n",
    "print(beta)"
   ],
   "outputs": [
    {
     "output_type": "stream",
     "name": "stdout",
     "text": [
      "[[-1.54481289e+00]\n",
      " [ 3.59375489e-01]\n",
      " [ 3.99143603e-02]\n",
      " [ 1.08565111e-02]\n",
      " [ 2.11723183e-04]\n",
      " [ 7.77180767e-03]\n",
      " [ 8.07368902e-03]]\n"
     ]
    }
   ],
   "metadata": {}
  },
  {
   "cell_type": "markdown",
   "source": [
    "### Option 2: Use the ```statsmodels``` library to perform regression\n",
    "\n",
    "As with most complex tasks in Python, there is usually a Python package you can import that does the task using only a couple of lines of code. These libraries are usually faster and provide more functionality that if you were to implement it yourself. \n",
    "\n",
    "For linear regression, one package that is particularly useful is the ```statsmodels``` package. "
   ],
   "metadata": {}
  },
  {
   "cell_type": "code",
   "execution_count": 82,
   "source": [
    "import statsmodels.formula.api as smf"
   ],
   "outputs": [],
   "metadata": {}
  },
  {
   "cell_type": "code",
   "execution_count": 83,
   "source": [
    "model = smf.ols(\n",
    "    'InfectionRate ~ Stay + Culture + Xray + Census + Age + Facilities', df).fit()"
   ],
   "outputs": [],
   "metadata": {}
  },
  {
   "cell_type": "markdown",
   "source": [
    "### Compare regession results"
   ],
   "metadata": {}
  },
  {
   "cell_type": "code",
   "execution_count": 116,
   "source": [
    "for name, beta_ceoff, smf_coeff in zip(model.params.index, beta, model.params.values):\n",
    "    print(f'\\033[1mPredictor: {name}\\033[0m')\n",
    "    print(f'Coefficient (Manually): {round(beta_ceoff[0], 5)}')\n",
    "    print(f'Coefficient (Statsmodel): {round(smf_coeff, 5)}\\n')"
   ],
   "outputs": [
    {
     "output_type": "stream",
     "name": "stdout",
     "text": [
      "\u001b[1mPredictor: Intercept\u001b[0m\n",
      "Coefficient (Manually): -1.54481\n",
      "Coefficient (Statsmodel): -1.54481\n",
      "\n",
      "\u001b[1mPredictor: Stay\u001b[0m\n",
      "Coefficient (Manually): 0.35938\n",
      "Coefficient (Statsmodel): 0.35938\n",
      "\n",
      "\u001b[1mPredictor: Culture\u001b[0m\n",
      "Coefficient (Manually): 0.03991\n",
      "Coefficient (Statsmodel): 0.03991\n",
      "\n",
      "\u001b[1mPredictor: Xray\u001b[0m\n",
      "Coefficient (Manually): 0.01086\n",
      "Coefficient (Statsmodel): 0.01086\n",
      "\n",
      "\u001b[1mPredictor: Census\u001b[0m\n",
      "Coefficient (Manually): 0.00021\n",
      "Coefficient (Statsmodel): 0.00021\n",
      "\n",
      "\u001b[1mPredictor: Age\u001b[0m\n",
      "Coefficient (Manually): 0.00777\n",
      "Coefficient (Statsmodel): 0.00777\n",
      "\n",
      "\u001b[1mPredictor: Facilities\u001b[0m\n",
      "Coefficient (Manually): 0.00807\n",
      "Coefficient (Statsmodel): 0.00807\n",
      "\n"
     ]
    }
   ],
   "metadata": {}
  },
  {
   "cell_type": "markdown",
   "source": [
    "## Select model and  visualise Regression model"
   ],
   "metadata": {}
  },
  {
   "cell_type": "code",
   "execution_count": 18,
   "source": [
    "model.summary()"
   ],
   "outputs": [
    {
     "output_type": "execute_result",
     "data": {
      "text/html": [
       "<table class=\"simpletable\">\n",
       "<caption>OLS Regression Results</caption>\n",
       "<tr>\n",
       "  <th>Dep. Variable:</th>      <td>InfectionRate</td>  <th>  R-squared:         </th> <td>   0.568</td>\n",
       "</tr>\n",
       "<tr>\n",
       "  <th>Model:</th>                   <td>OLS</td>       <th>  Adj. R-squared:    </th> <td>   0.517</td>\n",
       "</tr>\n",
       "<tr>\n",
       "  <th>Method:</th>             <td>Least Squares</td>  <th>  F-statistic:       </th> <td>   11.17</td>\n",
       "</tr>\n",
       "<tr>\n",
       "  <th>Date:</th>             <td>Wed, 05 Oct 2022</td> <th>  Prob (F-statistic):</th> <td>6.39e-08</td>\n",
       "</tr>\n",
       "<tr>\n",
       "  <th>Time:</th>                 <td>23:02:09</td>     <th>  Log-Likelihood:    </th> <td> -72.911</td>\n",
       "</tr>\n",
       "<tr>\n",
       "  <th>No. Observations:</th>      <td>    58</td>      <th>  AIC:               </th> <td>   159.8</td>\n",
       "</tr>\n",
       "<tr>\n",
       "  <th>Df Residuals:</th>          <td>    51</td>      <th>  BIC:               </th> <td>   174.2</td>\n",
       "</tr>\n",
       "<tr>\n",
       "  <th>Df Model:</th>              <td>     6</td>      <th>                     </th>     <td> </td>   \n",
       "</tr>\n",
       "<tr>\n",
       "  <th>Covariance Type:</th>      <td>nonrobust</td>    <th>                     </th>     <td> </td>   \n",
       "</tr>\n",
       "</table>\n",
       "<table class=\"simpletable\">\n",
       "<tr>\n",
       "       <td></td>         <th>coef</th>     <th>std err</th>      <th>t</th>      <th>P>|t|</th>  <th>[0.025</th>    <th>0.975]</th>  \n",
       "</tr>\n",
       "<tr>\n",
       "  <th>Intercept</th>  <td>   -1.5448</td> <td>    1.630</td> <td>   -0.948</td> <td> 0.348</td> <td>   -4.817</td> <td>    1.727</td>\n",
       "</tr>\n",
       "<tr>\n",
       "  <th>Stay</th>       <td>    0.3594</td> <td>    0.109</td> <td>    3.307</td> <td> 0.002</td> <td>    0.141</td> <td>    0.578</td>\n",
       "</tr>\n",
       "<tr>\n",
       "  <th>Culture</th>    <td>    0.0399</td> <td>    0.012</td> <td>    3.428</td> <td> 0.001</td> <td>    0.017</td> <td>    0.063</td>\n",
       "</tr>\n",
       "<tr>\n",
       "  <th>Xray</th>       <td>    0.0109</td> <td>    0.007</td> <td>    1.556</td> <td> 0.126</td> <td>   -0.003</td> <td>    0.025</td>\n",
       "</tr>\n",
       "<tr>\n",
       "  <th>Census</th>     <td>    0.0002</td> <td>    0.001</td> <td>    0.150</td> <td> 0.881</td> <td>   -0.003</td> <td>    0.003</td>\n",
       "</tr>\n",
       "<tr>\n",
       "  <th>Age</th>        <td>    0.0078</td> <td>    0.030</td> <td>    0.258</td> <td> 0.797</td> <td>   -0.053</td> <td>    0.068</td>\n",
       "</tr>\n",
       "<tr>\n",
       "  <th>Facilities</th> <td>    0.0081</td> <td>    0.014</td> <td>    0.587</td> <td> 0.560</td> <td>   -0.020</td> <td>    0.036</td>\n",
       "</tr>\n",
       "</table>\n",
       "<table class=\"simpletable\">\n",
       "<tr>\n",
       "  <th>Omnibus:</th>       <td> 0.292</td> <th>  Durbin-Watson:     </th> <td>   2.241</td>\n",
       "</tr>\n",
       "<tr>\n",
       "  <th>Prob(Omnibus):</th> <td> 0.864</td> <th>  Jarque-Bera (JB):  </th> <td>   0.035</td>\n",
       "</tr>\n",
       "<tr>\n",
       "  <th>Skew:</th>          <td> 0.049</td> <th>  Prob(JB):          </th> <td>   0.983</td>\n",
       "</tr>\n",
       "<tr>\n",
       "  <th>Kurtosis:</th>      <td> 3.067</td> <th>  Cond. No.          </th> <td>3.60e+03</td>\n",
       "</tr>\n",
       "</table><br/><br/>Notes:<br/>[1] Standard Errors assume that the covariance matrix of the errors is correctly specified.<br/>[2] The condition number is large, 3.6e+03. This might indicate that there are<br/>strong multicollinearity or other numerical problems."
      ],
      "text/plain": [
       "<class 'statsmodels.iolib.summary.Summary'>\n",
       "\"\"\"\n",
       "                            OLS Regression Results                            \n",
       "==============================================================================\n",
       "Dep. Variable:          InfectionRate   R-squared:                       0.568\n",
       "Model:                            OLS   Adj. R-squared:                  0.517\n",
       "Method:                 Least Squares   F-statistic:                     11.17\n",
       "Date:                Wed, 05 Oct 2022   Prob (F-statistic):           6.39e-08\n",
       "Time:                        23:02:09   Log-Likelihood:                -72.911\n",
       "No. Observations:                  58   AIC:                             159.8\n",
       "Df Residuals:                      51   BIC:                             174.2\n",
       "Df Model:                           6                                         \n",
       "Covariance Type:            nonrobust                                         \n",
       "==============================================================================\n",
       "                 coef    std err          t      P>|t|      [0.025      0.975]\n",
       "------------------------------------------------------------------------------\n",
       "Intercept     -1.5448      1.630     -0.948      0.348      -4.817       1.727\n",
       "Stay           0.3594      0.109      3.307      0.002       0.141       0.578\n",
       "Culture        0.0399      0.012      3.428      0.001       0.017       0.063\n",
       "Xray           0.0109      0.007      1.556      0.126      -0.003       0.025\n",
       "Census         0.0002      0.001      0.150      0.881      -0.003       0.003\n",
       "Age            0.0078      0.030      0.258      0.797      -0.053       0.068\n",
       "Facilities     0.0081      0.014      0.587      0.560      -0.020       0.036\n",
       "==============================================================================\n",
       "Omnibus:                        0.292   Durbin-Watson:                   2.241\n",
       "Prob(Omnibus):                  0.864   Jarque-Bera (JB):                0.035\n",
       "Skew:                           0.049   Prob(JB):                        0.983\n",
       "Kurtosis:                       3.067   Cond. No.                     3.60e+03\n",
       "==============================================================================\n",
       "\n",
       "Notes:\n",
       "[1] Standard Errors assume that the covariance matrix of the errors is correctly specified.\n",
       "[2] The condition number is large, 3.6e+03. This might indicate that there are\n",
       "strong multicollinearity or other numerical problems.\n",
       "\"\"\""
      ]
     },
     "metadata": {},
     "execution_count": 18
    }
   ],
   "metadata": {}
  },
  {
   "cell_type": "markdown",
   "source": [
    "## Visualising the Final Model"
   ],
   "metadata": {}
  },
  {
   "cell_type": "code",
   "execution_count": 112,
   "source": [
    "margin = 0\n",
    "reg = linear_model.LinearRegression()\n",
    "Y = df.InfectionRate\n",
    "X = df[['Stay', 'Culture']]\n",
    "reg.fit(X.values, Y)\n",
    "mesh_size = .02\n",
    "x_min, x_max = X.Stay.min() - margin, X.Stay.max() + margin\n",
    "y_min, y_max = X.Culture.min() - margin, X.Culture.max() + margin\n",
    "xrange = np.arange(x_min, x_max, mesh_size)\n",
    "yrange = np.arange(y_min, y_max, mesh_size)\n",
    "xx, yy = np.meshgrid(xrange, yrange)\n",
    "pred = reg.predict(np.c_[xx.ravel(), yy.ravel()])\n",
    "pred = pred.reshape(xx.shape)"
   ],
   "outputs": [],
   "metadata": {}
  }
 ],
 "metadata": {
  "kernelspec": {
   "display_name": "Python 3 (ipykernel)",
   "language": "python",
   "name": "python3"
  },
  "language_info": {
   "codemirror_mode": {
    "name": "ipython",
    "version": 3
   },
   "file_extension": ".py",
   "mimetype": "text/x-python",
   "name": "python",
   "nbconvert_exporter": "python",
   "pygments_lexer": "ipython3",
   "version": "3.9.12"
  },
  "latex_envs": {
   "LaTeX_envs_menu_present": true,
   "autoclose": false,
   "autocomplete": true,
   "bibliofile": "biblio.bib",
   "cite_by": "apalike",
   "current_citInitial": 1,
   "eqLabelWithNumbers": true,
   "eqNumInitial": 1,
   "hotkeys": {
    "equation": "Ctrl-E",
    "itemize": "Ctrl-I"
   },
   "labels_anchors": false,
   "latex_user_defs": false,
   "report_style_numbering": false,
   "user_envs_cfg": false
  }
 },
 "nbformat": 4,
 "nbformat_minor": 5
}